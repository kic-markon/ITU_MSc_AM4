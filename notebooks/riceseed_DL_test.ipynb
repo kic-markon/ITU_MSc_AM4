{
 "cells": [
  {
   "cell_type": "markdown",
   "metadata": {},
   "source": [
    "# Deep Learning of rice seed classification"
   ]
  },
  {
   "cell_type": "markdown",
   "metadata": {},
   "source": [
    "## Based on the sample from Cloudera's tutorial"
   ]
  },
  {
   "cell_type": "code",
   "execution_count": 1,
   "metadata": {},
   "outputs": [
    {
     "name": "stderr",
     "output_type": "stream",
     "text": [
      "/Users/markon/anaconda3/lib/python3.6/site-packages/h5py/__init__.py:34: FutureWarning: Conversion of the second argument of issubdtype from `float` to `np.floating` is deprecated. In future, it will be treated as `np.float64 == np.dtype(float).type`.\n",
      "  from ._conv import register_converters as _register_converters\n",
      "Using TensorFlow backend.\n"
     ]
    }
   ],
   "source": [
    "# Importing the Keras libraries and packages\n",
    "from keras.models import Sequential\n",
    "from keras.layers import Conv2D\n",
    "from keras.layers import MaxPooling2D\n",
    "from keras.layers import Flatten\n",
    "from keras.layers import Dense\n",
    "\n",
    "# Initialising the CNN\n",
    "classifier = Sequential()\n",
    "\n",
    "# Step 1 - Convolution\n",
    "classifier.add(Conv2D(32, (3, 3), input_shape = (64, 64, 3), activation = 'relu'))\n",
    "\n",
    "# Step 2 - Pooling\n",
    "classifier.add(MaxPooling2D(pool_size = (2, 2)))\n",
    "\n",
    "# Adding a second convolutional layer\n",
    "classifier.add(Conv2D(32, (3, 3), activation = 'relu'))\n",
    "classifier.add(MaxPooling2D(pool_size = (2, 2)))\n",
    "\n",
    "# Step 3 - Flattening\n",
    "classifier.add(Flatten())\n",
    "\n",
    "# Step 4 - Full connection\n",
    "classifier.add(Dense(units = 128, activation = 'relu'))\n",
    "classifier.add(Dense(units = 1, activation = 'sigmoid'))\n",
    "\n",
    "# Compiling the CNN\n",
    "classifier.compile(optimizer = 'adam', loss = 'binary_crossentropy', metrics = ['accuracy'])\n"
   ]
  },
  {
   "cell_type": "markdown",
   "metadata": {},
   "source": [
    "## Create training and testing datasets"
   ]
  },
  {
   "cell_type": "code",
   "execution_count": 3,
   "metadata": {},
   "outputs": [
    {
     "name": "stdout",
     "output_type": "stream",
     "text": [
      "Found 13210 images belonging to 2 classes.\n",
      "Found 1903 images belonging to 2 classes.\n"
     ]
    }
   ],
   "source": [
    "# Part 2 - Fitting the CNN to the images\n",
    "\n",
    "from keras.preprocessing.image import ImageDataGenerator\n",
    "\n",
    "train_datagen = ImageDataGenerator(rescale = 1./255,\n",
    "                                   shear_range = 0.2,\n",
    "                                   zoom_range = 0.2,\n",
    "                                   horizontal_flip = True)\n",
    "\n",
    "test_datagen = ImageDataGenerator(rescale = 1./255)\n",
    "\n",
    "training_set = train_datagen.flow_from_directory('riceseeds/training_set',\n",
    "                                                 target_size = (64, 64),\n",
    "                                                 batch_size = 32,\n",
    "                                                 class_mode = 'binary')\n",
    "\n",
    "test_set = test_datagen.flow_from_directory('riceseeds/test_set',\n",
    "                                            target_size = (64, 64),\n",
    "                                            batch_size = 32,\n",
    "                                            class_mode = 'binary')\n",
    "\n"
   ]
  },
  {
   "cell_type": "markdown",
   "metadata": {},
   "source": [
    "## Train the classifier"
   ]
  },
  {
   "cell_type": "code",
   "execution_count": 4,
   "metadata": {},
   "outputs": [
    {
     "name": "stdout",
     "output_type": "stream",
     "text": [
      "Epoch 1/25\n",
      "8000/8000 [==============================] - 3534s 442ms/step - loss: 0.0374 - acc: 0.9846 - val_loss: 0.0013 - val_acc: 1.0000\n",
      "Epoch 2/25\n",
      "8000/8000 [==============================] - 2852s 356ms/step - loss: 0.0038 - acc: 0.9988 - val_loss: 0.0322 - val_acc: 0.9927\n",
      "Epoch 3/25\n",
      "8000/8000 [==============================] - 2851s 356ms/step - loss: 0.0021 - acc: 0.9993 - val_loss: 0.0210 - val_acc: 0.9942\n",
      "Epoch 4/25\n",
      "8000/8000 [==============================] - 2733s 342ms/step - loss: 0.0019 - acc: 0.9994 - val_loss: 0.0026 - val_acc: 0.9984\n",
      "Epoch 5/25\n",
      "8000/8000 [==============================] - 3230s 404ms/step - loss: 0.0012 - acc: 0.9996 - val_loss: 0.0165 - val_acc: 0.9948\n",
      "Epoch 6/25\n",
      "8000/8000 [==============================] - 3165s 396ms/step - loss: 0.0016 - acc: 0.9995 - val_loss: 0.0057 - val_acc: 0.9963\n",
      "Epoch 7/25\n",
      "8000/8000 [==============================] - 2656s 332ms/step - loss: 8.9475e-04 - acc: 0.9997 - val_loss: 0.0522 - val_acc: 0.9942\n",
      "Epoch 8/25\n",
      "8000/8000 [==============================] - 2309s 289ms/step - loss: 0.0011 - acc: 0.9998 - val_loss: 0.0335 - val_acc: 0.9963\n",
      "Epoch 9/25\n",
      "8000/8000 [==============================] - 2264s 283ms/step - loss: 0.0012 - acc: 0.9997 - val_loss: 2.5325e-05 - val_acc: 1.0000\n",
      "Epoch 10/25\n",
      "8000/8000 [==============================] - 2238s 280ms/step - loss: 6.0418e-04 - acc: 0.9998 - val_loss: 4.9623e-07 - val_acc: 1.0000 - lo\n",
      "Epoch 11/25\n",
      "8000/8000 [==============================] - 2268s 283ms/step - loss: 7.3113e-04 - acc: 0.9998 - val_loss: 2.8116e-05 - val_acc: 1.0000\n",
      "Epoch 12/25\n",
      "8000/8000 [==============================] - 2176s 272ms/step - loss: 4.5357e-04 - acc: 0.9999 - val_loss: 0.0102 - val_acc: 0.9958\n",
      "Epoch 13/25\n",
      "8000/8000 [==============================] - 2120s 265ms/step - loss: 5.9938e-04 - acc: 0.9999 - val_loss: 7.7352e-05 - val_acc: 1.0000\n",
      "Epoch 14/25\n",
      "8000/8000 [==============================] - 2099s 262ms/step - loss: 4.0826e-04 - acc: 0.9999 - val_loss: 0.0271 - val_acc: 0.9963\n",
      "Epoch 15/25\n",
      "8000/8000 [==============================] - 2079s 260ms/step - loss: 5.1304e-04 - acc: 0.9999 - val_loss: 0.0051 - val_acc: 0.9984\n",
      "Epoch 16/25\n",
      "8000/8000 [==============================] - 2047s 256ms/step - loss: 6.1746e-05 - acc: 1.0000 - val_loss: 0.0032 - val_acc: 0.9990\n",
      "Epoch 17/25\n",
      "8000/8000 [==============================] - 2020s 253ms/step - loss: 8.4281e-04 - acc: 0.9998 - val_loss: 0.0551 - val_acc: 0.9932\n",
      "Epoch 18/25\n",
      "8000/8000 [==============================] - 2042s 255ms/step - loss: 4.8785e-07 - acc: 1.0000 - val_loss: 0.0184 - val_acc: 0.9963\n",
      "Epoch 19/25\n",
      "8000/8000 [==============================] - 2061s 258ms/step - loss: 3.2312e-04 - acc: 0.9999 - val_loss: 0.0613 - val_acc: 0.9942\n",
      "Epoch 20/25\n",
      "8000/8000 [==============================] - 2398s 300ms/step - loss: 4.6003e-04 - acc: 0.9999 - val_loss: 0.0155 - val_acc: 0.9974\n",
      "Epoch 21/25\n",
      "8000/8000 [==============================] - 2217s 277ms/step - loss: 5.8863e-04 - acc: 0.9999 - val_loss: 0.0301 - val_acc: 0.9963\n",
      "Epoch 22/25\n",
      "8000/8000 [==============================] - 2145s 268ms/step - loss: 1.8022e-07 - acc: 1.0000 - val_loss: 0.0244 - val_acc: 0.9963\n",
      "Epoch 23/25\n",
      "8000/8000 [==============================] - 1947s 243ms/step - loss: 4.0016e-04 - acc: 0.9999 - val_loss: 0.0269 - val_acc: 0.9958\n",
      "Epoch 24/25\n",
      "8000/8000 [==============================] - 1979s 247ms/step - loss: 4.9630e-04 - acc: 0.9999 - val_loss: 0.0022 - val_acc: 0.9984\n",
      "Epoch 25/25\n",
      "8000/8000 [==============================] - 1970s 246ms/step - loss: 5.8105e-04 - acc: 0.9999 - val_loss: 0.0068 - val_acc: 0.9974\n"
     ]
    },
    {
     "data": {
      "text/plain": [
       "<keras.callbacks.History at 0x11d85a0b8>"
      ]
     },
     "execution_count": 4,
     "metadata": {},
     "output_type": "execute_result"
    }
   ],
   "source": [
    "classifier.fit_generator(training_set,\n",
    "                         steps_per_epoch = 8000,\n",
    "                         epochs = 25,\n",
    "                         validation_data = test_set,\n",
    "                         validation_steps = 2000)"
   ]
  },
  {
   "cell_type": "code",
   "execution_count": 6,
   "metadata": {
    "collapsed": true
   },
   "outputs": [],
   "source": [
    "classifier.save(\"riceseeds_classifier\")"
   ]
  },
  {
   "cell_type": "code",
   "execution_count": null,
   "metadata": {
    "collapsed": true
   },
   "outputs": [],
   "source": []
  }
 ],
 "metadata": {
  "kernelspec": {
   "display_name": "Python 3",
   "language": "python",
   "name": "python3"
  },
  "language_info": {
   "codemirror_mode": {
    "name": "ipython",
    "version": 3
   },
   "file_extension": ".py",
   "mimetype": "text/x-python",
   "name": "python",
   "nbconvert_exporter": "python",
   "pygments_lexer": "ipython3",
   "version": "3.6.3"
  }
 },
 "nbformat": 4,
 "nbformat_minor": 2
}
