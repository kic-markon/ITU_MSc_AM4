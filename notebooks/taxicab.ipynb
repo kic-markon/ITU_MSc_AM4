{
 "cells": [
  {
   "cell_type": "markdown",
   "metadata": {},
   "source": [
    "# The Taxicab example\n",
    "\n",
    "The notebook is adapted from the Kaggle competition submissions:\n",
    "\n",
    "https://www.kaggle.com/c/nyc-taxi-trip-duration/kernels\n",
    "\n",
    "Note: this is a very popular topic, there many interesting kernels, \n",
    "here we consider only Python submissions, but there are some in R:\n",
    "\n",
    "https://www.kaggle.com/yuanwxu/nyc-taxi-trip-duration-prediction\n",
    "\n",
    "The student is encouraged to explore the ideas and techniques shown by the various submissions.\n"
   ]
  },
  {
   "cell_type": "markdown",
   "metadata": {},
   "source": [
    "First parts: from \n",
    "\n",
    "https://www.kaggle.com/kartikkannapur/nyc-taxi-trips-exploratory-data-analysis\n"
   ]
  },
  {
   "cell_type": "code",
   "execution_count": null,
   "metadata": {
    "_cell_guid": "6e0fc577-af9f-4c9e-bbda-52ec1bc4e8fa",
    "_uuid": "a6dd33a3cb72a3f91d244ad657f5a10aa6df5d22",
    "collapsed": true
   },
   "outputs": [],
   "source": [
    "# Exploratory Data Analysis - NYC Taxi Trip Duration\n",
    "\n",
    "\n",
    "Kaggle Competition Link: https://www.kaggle.com/c/nyc-taxi-trip-duration/\n",
    "\n",
    "1. [Problem Statement](#1.-Problem-Statement)\n",
    "2. [Python Libraries](#2.-Python-Libraries)\n",
    "3. [Datasets](#3.-Datasets)\n",
    "    * 3.1. [Data Dictionary](#3.1.-Data-Dictionary)\n",
    "    * 3.2. [Dataset Overview](#3.2.-Dataset-Overview)\n",
    "4. [Missing Values](#4.-Missing-Values)\n",
    "5. [Open-Questions/Hypothesis](#5.-Open-Questions/Hypothesis)\n",
    "    * 5.1. [Difference in the columns between the training and test datasets](#5.1.-Difference-in-the-columns-between-the-training-and-test-datasets)\n",
    "    * 5.2. [Are all the id's in the train and test datasets unique? Is there an overlap, in the observations, between the train and test datasets?](#5.2.-Are-all-the-id's-in-the-train-and-test-datasets-unique?-Is-there-an-overlap,-in-the-observations,-between-the-train-and-test-datasets?)\n",
    "    * 5.3. [Are all the vendor_id's in the train and test datasets unique?](#5.3.-Are-all-the-vendor_id's-in-the-train-and-test-datasets-unique?)\n",
    "    * 5.4. [Distribution of the number of passengers across the vendor_id variables 1 and 2, in both the train and test datasets](#5.4.-Distribution-of-the-number-of-passengers-across-the-vendor_id-variables-1-and-2,-in-both-the-train-and-test-datasets)\n",
    "    * 5.5. [Distribution of the trip_duration across the train dataset](#5.5.-Distribution-of-the-trip_duration-across-the-train-dataset)\n",
    "    * 5.6. [Distribution of the store_and_fwd_flag across the train dataset](#5.6.-Distribution-of-the-store_and_fwd_flag-across-the-train-dataset)\n",
    "    * 5.7. [Exploring the distances between the pickup and dropoff lat/log coordinates](#5.7.-Exploring-the-distances-between-the-pickup-and-dropoff-lat/log-coordinates)\n",
    "    * 5.8. [Exploring the number of trips at each timestamp feature in the train dataset](#5.8.-Exploring-the-number-of-trips-at-each-timestamp-feature-in-the-train-dataset)\n",
    "    * 5.9. [Exploring the behaviour of trip_duration based on the number of trips for each timestamp feature in the train dataset](#5.9.-Exploring-the-behaviour-of-trip_duration-based-on-the-number-of-trips-for-each-timestamp-feature-in-the-train-dataset)\n",
    "    \n",
    "[References](#References)"
   ]
  },
  {
   "cell_type": "markdown",
   "metadata": {
    "_cell_guid": "90809e9c-4260-4176-9755-c8ffe895200c",
    "_uuid": "63e66d89f579c8c62e03817e1deef53670596298"
   },
   "source": [
    "## 1. Problem Statement\n",
    "\n",
    "In this competition, the challenge is to build a model that predicts the total ride duration of taxi trips in New York City.\n",
    "\n",
    "Feel free to provide Suggestions, Feedback and Upvotes :)"
   ]
  },
  {
   "cell_type": "markdown",
   "metadata": {
    "_cell_guid": "b8e06478-cdcd-484f-ba07-37eb8a3cae97",
    "_uuid": "52dedd90f9dde0933105bdda996db2c232973c87"
   },
   "source": [
    "## 2. Python Libraries"
   ]
  },
  {
   "cell_type": "code",
   "execution_count": 1,
   "metadata": {
    "_cell_guid": "1f61d683-31d0-4dad-a744-4913c97830a6",
    "_execution_state": "idle",
    "_uuid": "5a82f35527edc03fb04df624e0223ebf42379544",
    "collapsed": true
   },
   "outputs": [],
   "source": [
    "# #Python Libraries\n",
    "import numpy as np\n",
    "import scipy as sp\n",
    "import pandas as pd\n",
    "import statsmodels\n",
    "import pandas_profiling\n",
    "\n",
    "from sklearn import linear_model\n",
    "\n",
    "%matplotlib inline\n",
    "import matplotlib.pyplot as plt\n",
    "import seaborn as sns\n",
    "\n",
    "import os\n",
    "import sys\n",
    "import time\n",
    "import requests\n",
    "import datetime\n",
    "\n",
    "import missingno as msno"
   ]
  },
  {
   "cell_type": "markdown",
   "metadata": {
    "_cell_guid": "4f8d7d30-83d3-4546-88b2-2c5dfda293e1",
    "_uuid": "b42e6850cfa8fb559761dc9e05b1437ccc30587c"
   },
   "source": [
    "## 3. Datasets"
   ]
  },
  {
   "cell_type": "code",
   "execution_count": 3,
   "metadata": {
    "_cell_guid": "f537037f-57a7-4828-ae2a-34a6f5fc6b30",
    "_execution_state": "idle",
    "_uuid": "eb77cf6a222c356b710dd07737ac650a3090f39e"
   },
   "outputs": [
    {
     "name": "stdout",
     "output_type": "stream",
     "text": [
      "DATA/test.csv  DATA/train.csv\r\n"
     ]
    }
   ],
   "source": [
    "# #Datasets\n",
    "!ls DATA/t*.csv"
   ]
  },
  {
   "cell_type": "code",
   "execution_count": 4,
   "metadata": {
    "_cell_guid": "cf5fc594-1231-40a9-9836-638cfe41cdb9",
    "_execution_state": "idle",
    "_uuid": "62c5f4718a73570da2e6cd2490a3b3fb3d4c9f1f",
    "collapsed": true
   },
   "outputs": [],
   "source": [
    "# #Train and Test Datasets\n",
    "df_train = pd.read_csv(\"DATA/train.csv\")\n",
    "df_test = pd.read_csv(\"DATA/test.csv\")\n",
    "\n",
    "df_sample_submission = pd.read_csv(\"DATA/sample_submission.csv\")"
   ]
  },
  {
   "cell_type": "markdown",
   "metadata": {
    "_cell_guid": "7b346d28-7013-451f-b711-1f51870e47ca",
    "_uuid": "81f410bf63b671cdab7d4f783af84940fad637f9"
   },
   "source": [
    "### 3.1. Data Dictionary\n",
    "\n",
    "Dataset: DATA/train.csv\n",
    "\n",
    "* id - a unique identifier for each trip\n",
    "* vendor_id - a code indicating the provider associated with the trip record\n",
    "* pickup_datetime - date and time when the meter was engaged\n",
    "* dropoff_datetime - date and time when the meter was disengaged\n",
    "* passenger_count - the number of passengers in the vehicle (driver entered value)\n",
    "* pickup_longitude - the longitude where the meter was engaged\n",
    "* pickup_latitude - the latitude where the meter was engaged\n",
    "* dropoff_longitude - the longitude where the meter was disengaged\n",
    "* dropoff_latitude - the latitude where the meter was disengaged\n",
    "* store_and_fwd_flag - This flag indicates whether the trip record was held in vehicle memory before sending to the vendor because the vehicle did not have a connection to the server - Y=store and forward; N=not a store and forward trip\n",
    "* trip_duration - duration of the trip in seconds\n",
    "\n",
    "Dataset: DATA/test.csv\n",
    "\n",
    "* The train dataset contains 11 columns and the test dataset contains 9 columns. The two additional columns that are present in the train dataset, and not in the test dataset are dropoff_datetime and trip_duration. \n",
    "\n",
    "Dataset: DATA/sample_submission.csv\n",
    "\n",
    "* id - a unique identifier for each trip\n",
    "* trip_duration - duration of the trip in seconds"
   ]
  },
  {
   "cell_type": "markdown",
   "metadata": {
    "_cell_guid": "3ccbff9a-bcc0-4cd8-8ad5-b24635d5cfd3",
    "_uuid": "e47f29fe4bc6df54ceb0524ad09290bc50962523"
   },
   "source": [
    "### 3.2. Dataset Overview"
   ]
  },
  {
   "cell_type": "markdown",
   "metadata": {
    "_cell_guid": "57e7f81b-b092-452c-904c-e79d0cfe654f",
    "_uuid": "190d21dea6e4aa6a6031cd9bdf3cd55d34a032f9"
   },
   "source": [
    "#### Training Dataset"
   ]
  },
  {
   "cell_type": "code",
   "execution_count": 5,
   "metadata": {
    "_cell_guid": "3613eac0-1850-4d43-b790-307a93adc5b9",
    "_execution_state": "idle",
    "_uuid": "fe79d94a242befd58729f31078f9e20cd56bf580"
   },
   "outputs": [
    {
     "name": "stdout",
     "output_type": "stream",
     "text": [
      "Total number of samples in train dataset:  1458644\n",
      "Number of columns in train dataset:  11\n"
     ]
    }
   ],
   "source": [
    "print(\"Total number of samples in train dataset: \", df_train.shape[0])\n",
    "print(\"Number of columns in train dataset: \", df_train.shape[1])"
   ]
  },
  {
   "cell_type": "code",
   "execution_count": 6,
   "metadata": {
    "_cell_guid": "ea9a79f8-0dbe-4169-b8a8-33f89d5dfd1d",
    "_execution_state": "idle",
    "_uuid": "ee0044dde651d8957201eb4f8f676128c886bbfc"
   },
   "outputs": [
    {
     "data": {
      "text/html": [
       "<div>\n",
       "<style>\n",
       "    .dataframe thead tr:only-child th {\n",
       "        text-align: right;\n",
       "    }\n",
       "\n",
       "    .dataframe thead th {\n",
       "        text-align: left;\n",
       "    }\n",
       "\n",
       "    .dataframe tbody tr th {\n",
       "        vertical-align: top;\n",
       "    }\n",
       "</style>\n",
       "<table border=\"1\" class=\"dataframe\">\n",
       "  <thead>\n",
       "    <tr style=\"text-align: right;\">\n",
       "      <th></th>\n",
       "      <th>id</th>\n",
       "      <th>vendor_id</th>\n",
       "      <th>pickup_datetime</th>\n",
       "      <th>dropoff_datetime</th>\n",
       "      <th>passenger_count</th>\n",
       "      <th>pickup_longitude</th>\n",
       "      <th>pickup_latitude</th>\n",
       "      <th>dropoff_longitude</th>\n",
       "      <th>dropoff_latitude</th>\n",
       "      <th>store_and_fwd_flag</th>\n",
       "      <th>trip_duration</th>\n",
       "    </tr>\n",
       "  </thead>\n",
       "  <tbody>\n",
       "    <tr>\n",
       "      <th>0</th>\n",
       "      <td>id2875421</td>\n",
       "      <td>2</td>\n",
       "      <td>2016-03-14 17:24:55</td>\n",
       "      <td>2016-03-14 17:32:30</td>\n",
       "      <td>1</td>\n",
       "      <td>-73.982155</td>\n",
       "      <td>40.767937</td>\n",
       "      <td>-73.964630</td>\n",
       "      <td>40.765602</td>\n",
       "      <td>N</td>\n",
       "      <td>455</td>\n",
       "    </tr>\n",
       "    <tr>\n",
       "      <th>1</th>\n",
       "      <td>id2377394</td>\n",
       "      <td>1</td>\n",
       "      <td>2016-06-12 00:43:35</td>\n",
       "      <td>2016-06-12 00:54:38</td>\n",
       "      <td>1</td>\n",
       "      <td>-73.980415</td>\n",
       "      <td>40.738564</td>\n",
       "      <td>-73.999481</td>\n",
       "      <td>40.731152</td>\n",
       "      <td>N</td>\n",
       "      <td>663</td>\n",
       "    </tr>\n",
       "    <tr>\n",
       "      <th>2</th>\n",
       "      <td>id3858529</td>\n",
       "      <td>2</td>\n",
       "      <td>2016-01-19 11:35:24</td>\n",
       "      <td>2016-01-19 12:10:48</td>\n",
       "      <td>1</td>\n",
       "      <td>-73.979027</td>\n",
       "      <td>40.763939</td>\n",
       "      <td>-74.005333</td>\n",
       "      <td>40.710087</td>\n",
       "      <td>N</td>\n",
       "      <td>2124</td>\n",
       "    </tr>\n",
       "    <tr>\n",
       "      <th>3</th>\n",
       "      <td>id3504673</td>\n",
       "      <td>2</td>\n",
       "      <td>2016-04-06 19:32:31</td>\n",
       "      <td>2016-04-06 19:39:40</td>\n",
       "      <td>1</td>\n",
       "      <td>-74.010040</td>\n",
       "      <td>40.719971</td>\n",
       "      <td>-74.012268</td>\n",
       "      <td>40.706718</td>\n",
       "      <td>N</td>\n",
       "      <td>429</td>\n",
       "    </tr>\n",
       "    <tr>\n",
       "      <th>4</th>\n",
       "      <td>id2181028</td>\n",
       "      <td>2</td>\n",
       "      <td>2016-03-26 13:30:55</td>\n",
       "      <td>2016-03-26 13:38:10</td>\n",
       "      <td>1</td>\n",
       "      <td>-73.973053</td>\n",
       "      <td>40.793209</td>\n",
       "      <td>-73.972923</td>\n",
       "      <td>40.782520</td>\n",
       "      <td>N</td>\n",
       "      <td>435</td>\n",
       "    </tr>\n",
       "  </tbody>\n",
       "</table>\n",
       "</div>"
      ],
      "text/plain": [
       "          id  vendor_id      pickup_datetime     dropoff_datetime  \\\n",
       "0  id2875421          2  2016-03-14 17:24:55  2016-03-14 17:32:30   \n",
       "1  id2377394          1  2016-06-12 00:43:35  2016-06-12 00:54:38   \n",
       "2  id3858529          2  2016-01-19 11:35:24  2016-01-19 12:10:48   \n",
       "3  id3504673          2  2016-04-06 19:32:31  2016-04-06 19:39:40   \n",
       "4  id2181028          2  2016-03-26 13:30:55  2016-03-26 13:38:10   \n",
       "\n",
       "   passenger_count  pickup_longitude  pickup_latitude  dropoff_longitude  \\\n",
       "0                1        -73.982155        40.767937         -73.964630   \n",
       "1                1        -73.980415        40.738564         -73.999481   \n",
       "2                1        -73.979027        40.763939         -74.005333   \n",
       "3                1        -74.010040        40.719971         -74.012268   \n",
       "4                1        -73.973053        40.793209         -73.972923   \n",
       "\n",
       "   dropoff_latitude store_and_fwd_flag  trip_duration  \n",
       "0         40.765602                  N            455  \n",
       "1         40.731152                  N            663  \n",
       "2         40.710087                  N           2124  \n",
       "3         40.706718                  N            429  \n",
       "4         40.782520                  N            435  "
      ]
     },
     "execution_count": 6,
     "metadata": {},
     "output_type": "execute_result"
    }
   ],
   "source": [
    "df_train.head()"
   ]
  },
  {
   "cell_type": "code",
   "execution_count": 7,
   "metadata": {
    "_cell_guid": "5ea03170-e4c0-4546-a398-3f9cfd75c6d0",
    "_execution_state": "idle",
    "_uuid": "60b5ea1fa19e756b4dcc01cd47d75af49a31b5c4"
   },
   "outputs": [
    {
     "data": {
      "text/html": [
       "<div>\n",
       "<style>\n",
       "    .dataframe thead tr:only-child th {\n",
       "        text-align: right;\n",
       "    }\n",
       "\n",
       "    .dataframe thead th {\n",
       "        text-align: left;\n",
       "    }\n",
       "\n",
       "    .dataframe tbody tr th {\n",
       "        vertical-align: top;\n",
       "    }\n",
       "</style>\n",
       "<table border=\"1\" class=\"dataframe\">\n",
       "  <thead>\n",
       "    <tr style=\"text-align: right;\">\n",
       "      <th></th>\n",
       "      <th>vendor_id</th>\n",
       "      <th>passenger_count</th>\n",
       "      <th>pickup_longitude</th>\n",
       "      <th>pickup_latitude</th>\n",
       "      <th>dropoff_longitude</th>\n",
       "      <th>dropoff_latitude</th>\n",
       "      <th>trip_duration</th>\n",
       "    </tr>\n",
       "  </thead>\n",
       "  <tbody>\n",
       "    <tr>\n",
       "      <th>count</th>\n",
       "      <td>1.458644e+06</td>\n",
       "      <td>1.458644e+06</td>\n",
       "      <td>1.458644e+06</td>\n",
       "      <td>1.458644e+06</td>\n",
       "      <td>1.458644e+06</td>\n",
       "      <td>1.458644e+06</td>\n",
       "      <td>1.458644e+06</td>\n",
       "    </tr>\n",
       "    <tr>\n",
       "      <th>mean</th>\n",
       "      <td>1.534950e+00</td>\n",
       "      <td>1.664530e+00</td>\n",
       "      <td>-7.397349e+01</td>\n",
       "      <td>4.075092e+01</td>\n",
       "      <td>-7.397342e+01</td>\n",
       "      <td>4.075180e+01</td>\n",
       "      <td>9.594923e+02</td>\n",
       "    </tr>\n",
       "    <tr>\n",
       "      <th>std</th>\n",
       "      <td>4.987772e-01</td>\n",
       "      <td>1.314242e+00</td>\n",
       "      <td>7.090186e-02</td>\n",
       "      <td>3.288119e-02</td>\n",
       "      <td>7.064327e-02</td>\n",
       "      <td>3.589056e-02</td>\n",
       "      <td>5.237432e+03</td>\n",
       "    </tr>\n",
       "    <tr>\n",
       "      <th>min</th>\n",
       "      <td>1.000000e+00</td>\n",
       "      <td>0.000000e+00</td>\n",
       "      <td>-1.219333e+02</td>\n",
       "      <td>3.435970e+01</td>\n",
       "      <td>-1.219333e+02</td>\n",
       "      <td>3.218114e+01</td>\n",
       "      <td>1.000000e+00</td>\n",
       "    </tr>\n",
       "    <tr>\n",
       "      <th>25%</th>\n",
       "      <td>1.000000e+00</td>\n",
       "      <td>1.000000e+00</td>\n",
       "      <td>-7.399187e+01</td>\n",
       "      <td>4.073735e+01</td>\n",
       "      <td>-7.399133e+01</td>\n",
       "      <td>4.073588e+01</td>\n",
       "      <td>3.970000e+02</td>\n",
       "    </tr>\n",
       "    <tr>\n",
       "      <th>50%</th>\n",
       "      <td>2.000000e+00</td>\n",
       "      <td>1.000000e+00</td>\n",
       "      <td>-7.398174e+01</td>\n",
       "      <td>4.075410e+01</td>\n",
       "      <td>-7.397975e+01</td>\n",
       "      <td>4.075452e+01</td>\n",
       "      <td>6.620000e+02</td>\n",
       "    </tr>\n",
       "    <tr>\n",
       "      <th>75%</th>\n",
       "      <td>2.000000e+00</td>\n",
       "      <td>2.000000e+00</td>\n",
       "      <td>-7.396733e+01</td>\n",
       "      <td>4.076836e+01</td>\n",
       "      <td>-7.396301e+01</td>\n",
       "      <td>4.076981e+01</td>\n",
       "      <td>1.075000e+03</td>\n",
       "    </tr>\n",
       "    <tr>\n",
       "      <th>max</th>\n",
       "      <td>2.000000e+00</td>\n",
       "      <td>9.000000e+00</td>\n",
       "      <td>-6.133553e+01</td>\n",
       "      <td>5.188108e+01</td>\n",
       "      <td>-6.133553e+01</td>\n",
       "      <td>4.392103e+01</td>\n",
       "      <td>3.526282e+06</td>\n",
       "    </tr>\n",
       "  </tbody>\n",
       "</table>\n",
       "</div>"
      ],
      "text/plain": [
       "          vendor_id  passenger_count  pickup_longitude  pickup_latitude  \\\n",
       "count  1.458644e+06     1.458644e+06      1.458644e+06     1.458644e+06   \n",
       "mean   1.534950e+00     1.664530e+00     -7.397349e+01     4.075092e+01   \n",
       "std    4.987772e-01     1.314242e+00      7.090186e-02     3.288119e-02   \n",
       "min    1.000000e+00     0.000000e+00     -1.219333e+02     3.435970e+01   \n",
       "25%    1.000000e+00     1.000000e+00     -7.399187e+01     4.073735e+01   \n",
       "50%    2.000000e+00     1.000000e+00     -7.398174e+01     4.075410e+01   \n",
       "75%    2.000000e+00     2.000000e+00     -7.396733e+01     4.076836e+01   \n",
       "max    2.000000e+00     9.000000e+00     -6.133553e+01     5.188108e+01   \n",
       "\n",
       "       dropoff_longitude  dropoff_latitude  trip_duration  \n",
       "count       1.458644e+06      1.458644e+06   1.458644e+06  \n",
       "mean       -7.397342e+01      4.075180e+01   9.594923e+02  \n",
       "std         7.064327e-02      3.589056e-02   5.237432e+03  \n",
       "min        -1.219333e+02      3.218114e+01   1.000000e+00  \n",
       "25%        -7.399133e+01      4.073588e+01   3.970000e+02  \n",
       "50%        -7.397975e+01      4.075452e+01   6.620000e+02  \n",
       "75%        -7.396301e+01      4.076981e+01   1.075000e+03  \n",
       "max        -6.133553e+01      4.392103e+01   3.526282e+06  "
      ]
     },
     "execution_count": 7,
     "metadata": {},
     "output_type": "execute_result"
    }
   ],
   "source": [
    "df_train.describe()"
   ]
  },
  {
   "cell_type": "code",
   "execution_count": 8,
   "metadata": {
    "_cell_guid": "5768469a-e33a-46bb-87a8-0b135a7dace5",
    "_execution_state": "idle",
    "_uuid": "52b5f2edfef807229406ca55fd3fb01e78a7426b"
   },
   "outputs": [
    {
     "name": "stdout",
     "output_type": "stream",
     "text": [
      "<class 'pandas.core.frame.DataFrame'>\n",
      "RangeIndex: 1458644 entries, 0 to 1458643\n",
      "Data columns (total 11 columns):\n",
      "id                    1458644 non-null object\n",
      "vendor_id             1458644 non-null int64\n",
      "pickup_datetime       1458644 non-null object\n",
      "dropoff_datetime      1458644 non-null object\n",
      "passenger_count       1458644 non-null int64\n",
      "pickup_longitude      1458644 non-null float64\n",
      "pickup_latitude       1458644 non-null float64\n",
      "dropoff_longitude     1458644 non-null float64\n",
      "dropoff_latitude      1458644 non-null float64\n",
      "store_and_fwd_flag    1458644 non-null object\n",
      "trip_duration         1458644 non-null int64\n",
      "dtypes: float64(4), int64(3), object(4)\n",
      "memory usage: 122.4+ MB\n"
     ]
    }
   ],
   "source": [
    "df_train.info()"
   ]
  },
  {
   "cell_type": "markdown",
   "metadata": {
    "_cell_guid": "a9fd26bd-1f85-4d33-a75e-241f3119b2de",
    "_uuid": "00891e8cb9d58bc2460c4b6c7f52fac0ad3d816d"
   },
   "source": [
    "#### Test Dataset"
   ]
  },
  {
   "cell_type": "code",
   "execution_count": 9,
   "metadata": {
    "_cell_guid": "ff01bed1-7af9-4890-8b84-53b7ec720469",
    "_execution_state": "idle",
    "_uuid": "a060782713dd18c7e9f081cbf0ecb9c082af0091"
   },
   "outputs": [
    {
     "name": "stdout",
     "output_type": "stream",
     "text": [
      "Total number of samples in test dataset:  625134\n",
      "Number of columns in test dataset:  9\n"
     ]
    }
   ],
   "source": [
    "print(\"Total number of samples in test dataset: \", df_test.shape[0])\n",
    "print(\"Number of columns in test dataset: \", df_test.shape[1])"
   ]
  },
  {
   "cell_type": "code",
   "execution_count": 10,
   "metadata": {
    "_cell_guid": "e6ed4059-ce7a-49d7-b6cb-933c01b15a5b",
    "_execution_state": "idle",
    "_uuid": "bbaaedf3952087d8e144ff45f103496dcbc02503"
   },
   "outputs": [
    {
     "data": {
      "text/html": [
       "<div>\n",
       "<style>\n",
       "    .dataframe thead tr:only-child th {\n",
       "        text-align: right;\n",
       "    }\n",
       "\n",
       "    .dataframe thead th {\n",
       "        text-align: left;\n",
       "    }\n",
       "\n",
       "    .dataframe tbody tr th {\n",
       "        vertical-align: top;\n",
       "    }\n",
       "</style>\n",
       "<table border=\"1\" class=\"dataframe\">\n",
       "  <thead>\n",
       "    <tr style=\"text-align: right;\">\n",
       "      <th></th>\n",
       "      <th>id</th>\n",
       "      <th>vendor_id</th>\n",
       "      <th>pickup_datetime</th>\n",
       "      <th>passenger_count</th>\n",
       "      <th>pickup_longitude</th>\n",
       "      <th>pickup_latitude</th>\n",
       "      <th>dropoff_longitude</th>\n",
       "      <th>dropoff_latitude</th>\n",
       "      <th>store_and_fwd_flag</th>\n",
       "    </tr>\n",
       "  </thead>\n",
       "  <tbody>\n",
       "    <tr>\n",
       "      <th>0</th>\n",
       "      <td>id3004672</td>\n",
       "      <td>1</td>\n",
       "      <td>2016-06-30 23:59:58</td>\n",
       "      <td>1</td>\n",
       "      <td>-73.988129</td>\n",
       "      <td>40.732029</td>\n",
       "      <td>-73.990173</td>\n",
       "      <td>40.756680</td>\n",
       "      <td>N</td>\n",
       "    </tr>\n",
       "    <tr>\n",
       "      <th>1</th>\n",
       "      <td>id3505355</td>\n",
       "      <td>1</td>\n",
       "      <td>2016-06-30 23:59:53</td>\n",
       "      <td>1</td>\n",
       "      <td>-73.964203</td>\n",
       "      <td>40.679993</td>\n",
       "      <td>-73.959808</td>\n",
       "      <td>40.655403</td>\n",
       "      <td>N</td>\n",
       "    </tr>\n",
       "    <tr>\n",
       "      <th>2</th>\n",
       "      <td>id1217141</td>\n",
       "      <td>1</td>\n",
       "      <td>2016-06-30 23:59:47</td>\n",
       "      <td>1</td>\n",
       "      <td>-73.997437</td>\n",
       "      <td>40.737583</td>\n",
       "      <td>-73.986160</td>\n",
       "      <td>40.729523</td>\n",
       "      <td>N</td>\n",
       "    </tr>\n",
       "    <tr>\n",
       "      <th>3</th>\n",
       "      <td>id2150126</td>\n",
       "      <td>2</td>\n",
       "      <td>2016-06-30 23:59:41</td>\n",
       "      <td>1</td>\n",
       "      <td>-73.956070</td>\n",
       "      <td>40.771900</td>\n",
       "      <td>-73.986427</td>\n",
       "      <td>40.730469</td>\n",
       "      <td>N</td>\n",
       "    </tr>\n",
       "    <tr>\n",
       "      <th>4</th>\n",
       "      <td>id1598245</td>\n",
       "      <td>1</td>\n",
       "      <td>2016-06-30 23:59:33</td>\n",
       "      <td>1</td>\n",
       "      <td>-73.970215</td>\n",
       "      <td>40.761475</td>\n",
       "      <td>-73.961510</td>\n",
       "      <td>40.755890</td>\n",
       "      <td>N</td>\n",
       "    </tr>\n",
       "  </tbody>\n",
       "</table>\n",
       "</div>"
      ],
      "text/plain": [
       "          id  vendor_id      pickup_datetime  passenger_count  \\\n",
       "0  id3004672          1  2016-06-30 23:59:58                1   \n",
       "1  id3505355          1  2016-06-30 23:59:53                1   \n",
       "2  id1217141          1  2016-06-30 23:59:47                1   \n",
       "3  id2150126          2  2016-06-30 23:59:41                1   \n",
       "4  id1598245          1  2016-06-30 23:59:33                1   \n",
       "\n",
       "   pickup_longitude  pickup_latitude  dropoff_longitude  dropoff_latitude  \\\n",
       "0        -73.988129        40.732029         -73.990173         40.756680   \n",
       "1        -73.964203        40.679993         -73.959808         40.655403   \n",
       "2        -73.997437        40.737583         -73.986160         40.729523   \n",
       "3        -73.956070        40.771900         -73.986427         40.730469   \n",
       "4        -73.970215        40.761475         -73.961510         40.755890   \n",
       "\n",
       "  store_and_fwd_flag  \n",
       "0                  N  \n",
       "1                  N  \n",
       "2                  N  \n",
       "3                  N  \n",
       "4                  N  "
      ]
     },
     "execution_count": 10,
     "metadata": {},
     "output_type": "execute_result"
    }
   ],
   "source": [
    "df_test.head()"
   ]
  },
  {
   "cell_type": "markdown",
   "metadata": {
    "_cell_guid": "d484f5e4-188c-4f2d-87dc-2c83ff967554",
    "_uuid": "c3ece303ee5068c65403aece3daf2ba062635a8d"
   },
   "source": [
    "## 4. Missing Values\n",
    "\n",
    "Are there any missing values in the train and test datasets?"
   ]
  },
  {
   "cell_type": "code",
   "execution_count": 11,
   "metadata": {
    "_cell_guid": "de4b6f9f-c032-4de2-ba40-c23f69e19f87",
    "_execution_state": "idle",
    "_uuid": "37e87c49fb2d39ad5ae07e217e6108b0eaf0c341"
   },
   "outputs": [
    {
     "data": {
      "text/plain": [
       "id                    0\n",
       "vendor_id             0\n",
       "pickup_datetime       0\n",
       "dropoff_datetime      0\n",
       "passenger_count       0\n",
       "pickup_longitude      0\n",
       "pickup_latitude       0\n",
       "dropoff_longitude     0\n",
       "dropoff_latitude      0\n",
       "store_and_fwd_flag    0\n",
       "trip_duration         0\n",
       "dtype: int64"
      ]
     },
     "execution_count": 11,
     "metadata": {},
     "output_type": "execute_result"
    }
   ],
   "source": [
    "df_train.isnull().sum()"
   ]
  },
  {
   "cell_type": "code",
   "execution_count": 12,
   "metadata": {
    "_cell_guid": "0185b9f8-7f86-4e92-b8a2-16ad593d14ed",
    "_execution_state": "idle",
    "_uuid": "55347142bf615b8ee652db0876b55cc18f3ced9f"
   },
   "outputs": [
    {
     "data": {
      "text/plain": [
       "id                    0\n",
       "vendor_id             0\n",
       "pickup_datetime       0\n",
       "passenger_count       0\n",
       "pickup_longitude      0\n",
       "pickup_latitude       0\n",
       "dropoff_longitude     0\n",
       "dropoff_latitude      0\n",
       "store_and_fwd_flag    0\n",
       "dtype: int64"
      ]
     },
     "execution_count": 12,
     "metadata": {},
     "output_type": "execute_result"
    }
   ],
   "source": [
    "df_test.isnull().sum()"
   ]
  },
  {
   "cell_type": "markdown",
   "metadata": {
    "_cell_guid": "a704f23d-de7e-4997-a75e-009506a2c653",
    "_uuid": "3b14b9fc7878e0dc9797fdd4cead7997cbfb7581"
   },
   "source": [
    "_Fortunately, both the train and test datasets are clean & none of the values are missing._"
   ]
  },
  {
   "cell_type": "markdown",
   "metadata": {
    "_cell_guid": "d7b7f9fb-01b1-468d-89ef-97f552b39896",
    "_uuid": "e6c492057ee8dbf3b08c16d2ee9d144243b854f0"
   },
   "source": [
    "### 5.5. Distribution of the trip_duration across the train dataset"
   ]
  },
  {
   "cell_type": "code",
   "execution_count": 13,
   "metadata": {
    "_cell_guid": "dc8629e4-3feb-4e2c-b119-f21de8e7b018",
    "_execution_state": "idle",
    "_uuid": "faf2ee648db2fa2f53e2bda62f5f9f906cad95f3"
   },
   "outputs": [
    {
     "data": {
      "text/plain": [
       "count    1.458644e+06\n",
       "mean     9.594923e+02\n",
       "std      5.237432e+03\n",
       "min      1.000000e+00\n",
       "25%      3.970000e+02\n",
       "50%      6.620000e+02\n",
       "75%      1.075000e+03\n",
       "max      3.526282e+06\n",
       "Name: trip_duration, dtype: float64"
      ]
     },
     "execution_count": 13,
     "metadata": {},
     "output_type": "execute_result"
    }
   ],
   "source": [
    "# #trip_duration represents the difference between the dropoff_datetime and the pickup_datetime in the\n",
    "# #train dataset\n",
    "df_train[\"trip_duration\"].describe()"
   ]
  },
  {
   "cell_type": "markdown",
   "metadata": {
    "_cell_guid": "1d653fc5-8140-49d8-a908-0c6486635c45",
    "_uuid": "2f587d815036a9e33232de94a01a229fcd69c98e"
   },
   "source": [
    "_It is interesting to see that there happens to be a trip that lasted for over 40 days. Let us plot the trip duration in seconds to view any other possbile outliers._"
   ]
  },
  {
   "cell_type": "code",
   "execution_count": 15,
   "metadata": {
    "_cell_guid": "5cfd175c-3ee6-4fe7-8c99-15a356006576",
    "_execution_state": "idle",
    "_uuid": "5a15ef493801a3440dbd01e82fcef52cd8e0c184"
   },
   "outputs": [
    {
     "data": {
      "image/png": "[encoded data removed]",
      "text/plain": [
       "<Figure size 720x720 with 1 Axes>"
      ]
     },
     "metadata": {},
     "output_type": "display_data"
    }
   ],
   "source": [
    "plt.figure(figsize=(10,10))\n",
    "plt.scatter(range(len(df_train[\"trip_duration\"])), np.sort(df_train[\"trip_duration\"]))\n",
    "plt.xlabel('index')\n",
    "plt.ylabel('trip_duration in seconds')\n",
    "plt.show()"
   ]
  },
  {
   "cell_type": "markdown",
   "metadata": {
    "_cell_guid": "b65a0858-196d-4774-8216-a98aafa8b616",
    "_uuid": "2056667f533bf8a16ce57bfbf447f53d8cce3000"
   },
   "source": [
    "_We see that there are four outliers with trip durations of 20 days or more_"
   ]
  },
  {
   "cell_type": "code",
   "execution_count": 16,
   "metadata": {
    "_cell_guid": "7b115f22-b26f-4bf4-9ddf-335fe6315d21",
    "_execution_state": "idle",
    "_uuid": "4cd9f69f2b72a791d760f9253df80356c9363e98",
    "collapsed": true
   },
   "outputs": [],
   "source": [
    "# #Removing the outliers in the dataset\n",
    "df_train = df_train[df_train[\"trip_duration\"] < 500000]"
   ]
  },
  {
   "cell_type": "markdown",
   "metadata": {
    "_cell_guid": "efd7e17b-99a9-43f1-8f67-515b89f7c19e",
    "_uuid": "3fe4e77e313c9870e89dabd558632c293d3ea8e9"
   },
   "source": [
    "Further cleanup: remove trips over 2 hours"
   ]
  },
  {
   "cell_type": "code",
   "execution_count": 18,
   "metadata": {
    "_cell_guid": "bb8db2df-b262-4d3d-948c-59ee3966b400",
    "_execution_state": "idle",
    "_uuid": "64923003d6ae6761629adf57ffedec38bc7169d1",
    "collapsed": true
   },
   "outputs": [],
   "source": [
    "# #Removing the outliers in the dataset\n",
    "df_train = df_train[df_train[\"trip_duration\"] < 7200]"
   ]
  },
  {
   "cell_type": "code",
   "execution_count": 19,
   "metadata": {},
   "outputs": [
    {
     "data": {
      "image/png": "[encoded data removed]",
      "text/plain": [
       "<Figure size 720x720 with 1 Axes>"
      ]
     },
     "metadata": {},
     "output_type": "display_data"
    }
   ],
   "source": [
    "plt.figure(figsize=(10,10))\n",
    "plt.scatter(range(len(df_train[\"trip_duration\"])), np.sort(df_train[\"trip_duration\"]))\n",
    "plt.xlabel('index')\n",
    "plt.ylabel('trip_duration in seconds')\n",
    "plt.show()"
   ]
  },
  {
   "cell_type": "markdown",
   "metadata": {
    "_cell_guid": "3352ef9e-adbe-48b7-bd3f-db6f39e6648e",
    "_uuid": "5a1383c03b3f0185b8f3882a6be704ab7732b79e"
   },
   "source": [
    "### 5.7. Exploring the distances between the pickup and dropoff lat/log coordinates"
   ]
  },
  {
   "cell_type": "code",
   "execution_count": 33,
   "metadata": {
    "_cell_guid": "6e0b6826-3e72-4b8d-a0f0-029939c28a39",
    "_execution_state": "idle",
    "_uuid": "57a5ed037f117a1847d3d1a6632b71bf1fd25ef6",
    "collapsed": true
   },
   "outputs": [],
   "source": [
    "from haversine import haversine"
   ]
  },
  {
   "cell_type": "code",
   "execution_count": 34,
   "metadata": {
    "_cell_guid": "252ed8d7-aaf9-48e8-8073-ca33c16a968f",
    "_execution_state": "idle",
    "_uuid": "46e5d0262e965a913d943ccd3f7412d09d9abe29",
    "collapsed": true
   },
   "outputs": [],
   "source": [
    "def calculate_haversine_distance(var_row):\n",
    "    return haversine((var_row[\"pickup_latitude\"], var_row[\"pickup_longitude\"]), \n",
    "                     (var_row[\"dropoff_latitude\"], var_row[\"dropoff_longitude\"]), miles = True)"
   ]
  },
  {
   "cell_type": "code",
   "execution_count": 35,
   "metadata": {
    "_cell_guid": "93633783-489b-4e64-8946-ae3efc1557bf",
    "_execution_state": "idle",
    "_uuid": "c3199c5f06a24cd067bfb60300d590a736057dd0",
    "collapsed": true
   },
   "outputs": [],
   "source": [
    "# #Calculating the Haversine Distance\n",
    "# #The haversine formula determines the great-circle distance between two points on a sphere \n",
    "# #given their longitudes and latitudes.\n",
    "df_train[\"haversine_distance\"] = df_train.apply(lambda row: calculate_haversine_distance(row), axis=1)"
   ]
  },
  {
   "cell_type": "code",
   "execution_count": 36,
   "metadata": {
    "_cell_guid": "de33ad4c-1070-4f1a-b5f1-cc050304a2e2",
    "_execution_state": "idle",
    "_uuid": "0e1940224aedccfd85b87aacb37ded7e455b9078"
   },
   "outputs": [
    {
     "data": {
      "text/html": [
       "<div>\n",
       "<style>\n",
       "    .dataframe thead tr:only-child th {\n",
       "        text-align: right;\n",
       "    }\n",
       "\n",
       "    .dataframe thead th {\n",
       "        text-align: left;\n",
       "    }\n",
       "\n",
       "    .dataframe tbody tr th {\n",
       "        vertical-align: top;\n",
       "    }\n",
       "</style>\n",
       "<table border=\"1\" class=\"dataframe\">\n",
       "  <thead>\n",
       "    <tr style=\"text-align: right;\">\n",
       "      <th></th>\n",
       "      <th>id</th>\n",
       "      <th>vendor_id</th>\n",
       "      <th>pickup_datetime</th>\n",
       "      <th>dropoff_datetime</th>\n",
       "      <th>passenger_count</th>\n",
       "      <th>pickup_longitude</th>\n",
       "      <th>pickup_latitude</th>\n",
       "      <th>dropoff_longitude</th>\n",
       "      <th>dropoff_latitude</th>\n",
       "      <th>store_and_fwd_flag</th>\n",
       "      <th>trip_duration</th>\n",
       "      <th>haversine_distance</th>\n",
       "    </tr>\n",
       "  </thead>\n",
       "  <tbody>\n",
       "    <tr>\n",
       "      <th>0</th>\n",
       "      <td>id2875421</td>\n",
       "      <td>2</td>\n",
       "      <td>2016-03-14 17:24:55</td>\n",
       "      <td>2016-03-14 17:32:30</td>\n",
       "      <td>1</td>\n",
       "      <td>-73.982155</td>\n",
       "      <td>40.767937</td>\n",
       "      <td>-73.964630</td>\n",
       "      <td>40.765602</td>\n",
       "      <td>N</td>\n",
       "      <td>455</td>\n",
       "      <td>0.931137</td>\n",
       "    </tr>\n",
       "    <tr>\n",
       "      <th>1</th>\n",
       "      <td>id2377394</td>\n",
       "      <td>1</td>\n",
       "      <td>2016-06-12 00:43:35</td>\n",
       "      <td>2016-06-12 00:54:38</td>\n",
       "      <td>1</td>\n",
       "      <td>-73.980415</td>\n",
       "      <td>40.738564</td>\n",
       "      <td>-73.999481</td>\n",
       "      <td>40.731152</td>\n",
       "      <td>N</td>\n",
       "      <td>663</td>\n",
       "      <td>1.121890</td>\n",
       "    </tr>\n",
       "    <tr>\n",
       "      <th>2</th>\n",
       "      <td>id3858529</td>\n",
       "      <td>2</td>\n",
       "      <td>2016-01-19 11:35:24</td>\n",
       "      <td>2016-01-19 12:10:48</td>\n",
       "      <td>1</td>\n",
       "      <td>-73.979027</td>\n",
       "      <td>40.763939</td>\n",
       "      <td>-74.005333</td>\n",
       "      <td>40.710087</td>\n",
       "      <td>N</td>\n",
       "      <td>2124</td>\n",
       "      <td>3.967515</td>\n",
       "    </tr>\n",
       "    <tr>\n",
       "      <th>3</th>\n",
       "      <td>id3504673</td>\n",
       "      <td>2</td>\n",
       "      <td>2016-04-06 19:32:31</td>\n",
       "      <td>2016-04-06 19:39:40</td>\n",
       "      <td>1</td>\n",
       "      <td>-74.010040</td>\n",
       "      <td>40.719971</td>\n",
       "      <td>-74.012268</td>\n",
       "      <td>40.706718</td>\n",
       "      <td>N</td>\n",
       "      <td>429</td>\n",
       "      <td>0.923046</td>\n",
       "    </tr>\n",
       "    <tr>\n",
       "      <th>4</th>\n",
       "      <td>id2181028</td>\n",
       "      <td>2</td>\n",
       "      <td>2016-03-26 13:30:55</td>\n",
       "      <td>2016-03-26 13:38:10</td>\n",
       "      <td>1</td>\n",
       "      <td>-73.973053</td>\n",
       "      <td>40.793209</td>\n",
       "      <td>-73.972923</td>\n",
       "      <td>40.782520</td>\n",
       "      <td>N</td>\n",
       "      <td>435</td>\n",
       "      <td>0.738554</td>\n",
       "    </tr>\n",
       "  </tbody>\n",
       "</table>\n",
       "</div>"
      ],
      "text/plain": [
       "          id  vendor_id     pickup_datetime    dropoff_datetime  \\\n",
       "0  id2875421          2 2016-03-14 17:24:55 2016-03-14 17:32:30   \n",
       "1  id2377394          1 2016-06-12 00:43:35 2016-06-12 00:54:38   \n",
       "2  id3858529          2 2016-01-19 11:35:24 2016-01-19 12:10:48   \n",
       "3  id3504673          2 2016-04-06 19:32:31 2016-04-06 19:39:40   \n",
       "4  id2181028          2 2016-03-26 13:30:55 2016-03-26 13:38:10   \n",
       "\n",
       "   passenger_count  pickup_longitude  pickup_latitude  dropoff_longitude  \\\n",
       "0                1        -73.982155        40.767937         -73.964630   \n",
       "1                1        -73.980415        40.738564         -73.999481   \n",
       "2                1        -73.979027        40.763939         -74.005333   \n",
       "3                1        -74.010040        40.719971         -74.012268   \n",
       "4                1        -73.973053        40.793209         -73.972923   \n",
       "\n",
       "   dropoff_latitude store_and_fwd_flag  trip_duration  haversine_distance  \n",
       "0         40.765602                  N            455            0.931137  \n",
       "1         40.731152                  N            663            1.121890  \n",
       "2         40.710087                  N           2124            3.967515  \n",
       "3         40.706718                  N            429            0.923046  \n",
       "4         40.782520                  N            435            0.738554  "
      ]
     },
     "execution_count": 36,
     "metadata": {},
     "output_type": "execute_result"
    }
   ],
   "source": [
    "df_train.head()"
   ]
  },
  {
   "cell_type": "code",
   "execution_count": 37,
   "metadata": {
    "_cell_guid": "60a0e8a4-a032-453f-b5eb-318e309c5e22",
    "_execution_state": "idle",
    "_uuid": "b3c01afa7e1cf54dd6a49a0f34841b768162763f"
   },
   "outputs": [
    {
     "data": {
      "text/plain": [
       "count    1.458640e+06\n",
       "mean     2.138039e+00\n",
       "std      2.669720e+00\n",
       "min      0.000000e+00\n",
       "25%      7.654260e-01\n",
       "50%      1.300971e+00\n",
       "75%      2.408013e+00\n",
       "max      7.710647e+02\n",
       "Name: haversine_distance, dtype: float64"
      ]
     },
     "execution_count": 37,
     "metadata": {},
     "output_type": "execute_result"
    }
   ],
   "source": [
    "df_train[\"haversine_distance\"].describe()"
   ]
  },
  {
   "cell_type": "code",
   "execution_count": null,
   "metadata": {
    "_cell_guid": "5d09934e-732d-4926-9f52-26f4ddebe85e",
    "_execution_state": "idle",
    "_uuid": "8424cffb4ea926cee840c0be798c10100edee3e3",
    "collapsed": true
   },
   "outputs": [],
   "source": []
  },
  {
   "cell_type": "markdown",
   "metadata": {
    "_cell_guid": "8a1d7392-d83d-415c-bc88-3d3bce8a3d86",
    "_uuid": "81baf0d8e4808a6b45b84a56b923369ef22b4a6b"
   },
   "source": [
    "_Plot of the haversine distance vs the trip duration._"
   ]
  },
  {
   "cell_type": "code",
   "execution_count": 136,
   "metadata": {
    "_cell_guid": "81ea7668-579e-488a-b7ff-06753a882a81",
    "_execution_state": "idle",
    "_uuid": "8fb8a6a0d50264fd5bb3ca8e4096e8a21d4ed41e"
   },
   "outputs": [
    {
     "data": {
      "text/plain": [
       "<matplotlib.axes._subplots.AxesSubplot at 0x13e65bdd8>"
      ]
     },
     "execution_count": 136,
     "metadata": {},
     "output_type": "execute_result"
    },
    {
     "data": {
      "image/png": "[encoded data removed]",
      "text/plain": [
       "<Figure size 720x720 with 1 Axes>"
      ]
     },
     "metadata": {},
     "output_type": "display_data"
    }
   ],
   "source": [
    "plt.figure(figsize=(10,10))\n",
    "sns.regplot(x=\"haversine_distance\", y=\"trip_duration\", data=df_train)"
   ]
  },
  {
   "cell_type": "markdown",
   "metadata": {
    "_execution_state": "idle",
    "_uuid": "6c6660b700e35fbfdaa1893b8b1ded4079aaaeeb"
   },
   "source": [
    "![](http://kartikkannapur.github.io//images/haversine_distance_1.png)"
   ]
  },
  {
   "cell_type": "markdown",
   "metadata": {
    "_cell_guid": "6cc99581-e89d-41e6-a4c5-1eed4e3a7956",
    "_uuid": "850972a5053efe630ccb6bb71f9e39710495078a"
   },
   "source": [
    "_The presence of outliers in the train dataset(long tail in the haversine distance) might have caused the deviation in the regression line. It would be interesting to explore different methods for outlier detection._"
   ]
  },
  {
   "cell_type": "code",
   "execution_count": 39,
   "metadata": {
    "_cell_guid": "f54192eb-dbb7-4201-81dc-8938185dbcfa",
    "_execution_state": "idle",
    "_uuid": "606aa222cd2ecacffc7a824c87a6e154599510ab",
    "scrolled": false
   },
   "outputs": [
    {
     "data": {
      "text/html": [
       "<div>\n",
       "<style>\n",
       "    .dataframe thead tr:only-child th {\n",
       "        text-align: right;\n",
       "    }\n",
       "\n",
       "    .dataframe thead th {\n",
       "        text-align: left;\n",
       "    }\n",
       "\n",
       "    .dataframe tbody tr th {\n",
       "        vertical-align: top;\n",
       "    }\n",
       "</style>\n",
       "<table border=\"1\" class=\"dataframe\">\n",
       "  <thead>\n",
       "    <tr style=\"text-align: right;\">\n",
       "      <th></th>\n",
       "      <th>id</th>\n",
       "      <th>vendor_id</th>\n",
       "      <th>pickup_datetime</th>\n",
       "      <th>dropoff_datetime</th>\n",
       "      <th>passenger_count</th>\n",
       "      <th>pickup_longitude</th>\n",
       "      <th>pickup_latitude</th>\n",
       "      <th>dropoff_longitude</th>\n",
       "      <th>dropoff_latitude</th>\n",
       "      <th>store_and_fwd_flag</th>\n",
       "      <th>trip_duration</th>\n",
       "      <th>haversine_distance</th>\n",
       "    </tr>\n",
       "  </thead>\n",
       "  <tbody>\n",
       "    <tr>\n",
       "      <th>114376</th>\n",
       "      <td>id1311087</td>\n",
       "      <td>1</td>\n",
       "      <td>2016-02-29 12:16:29</td>\n",
       "      <td>2016-02-29 18:47:09</td>\n",
       "      <td>3</td>\n",
       "      <td>-75.455917</td>\n",
       "      <td>39.803932</td>\n",
       "      <td>-73.796021</td>\n",
       "      <td>40.707726</td>\n",
       "      <td>N</td>\n",
       "      <td>23440</td>\n",
       "      <td>107.515425</td>\n",
       "    </tr>\n",
       "    <tr>\n",
       "      <th>184925</th>\n",
       "      <td>id2306955</td>\n",
       "      <td>1</td>\n",
       "      <td>2016-05-07 18:58:53</td>\n",
       "      <td>2016-05-07 19:12:05</td>\n",
       "      <td>1</td>\n",
       "      <td>-72.809669</td>\n",
       "      <td>51.881084</td>\n",
       "      <td>-73.987228</td>\n",
       "      <td>40.750599</td>\n",
       "      <td>N</td>\n",
       "      <td>792</td>\n",
       "      <td>771.064665</td>\n",
       "    </tr>\n",
       "    <tr>\n",
       "      <th>275644</th>\n",
       "      <td>id0978162</td>\n",
       "      <td>1</td>\n",
       "      <td>2016-02-24 16:20:59</td>\n",
       "      <td>2016-02-24 16:35:34</td>\n",
       "      <td>4</td>\n",
       "      <td>-75.354332</td>\n",
       "      <td>34.712234</td>\n",
       "      <td>-73.834923</td>\n",
       "      <td>32.181141</td>\n",
       "      <td>N</td>\n",
       "      <td>875</td>\n",
       "      <td>195.585348</td>\n",
       "    </tr>\n",
       "    <tr>\n",
       "      <th>377068</th>\n",
       "      <td>id0116374</td>\n",
       "      <td>1</td>\n",
       "      <td>2016-04-02 20:33:19</td>\n",
       "      <td>2016-04-02 20:38:01</td>\n",
       "      <td>1</td>\n",
       "      <td>-74.007095</td>\n",
       "      <td>40.717113</td>\n",
       "      <td>-76.963242</td>\n",
       "      <td>38.946033</td>\n",
       "      <td>N</td>\n",
       "      <td>282</td>\n",
       "      <td>198.916873</td>\n",
       "    </tr>\n",
       "    <tr>\n",
       "      <th>397526</th>\n",
       "      <td>id0982904</td>\n",
       "      <td>1</td>\n",
       "      <td>2016-04-28 13:32:14</td>\n",
       "      <td>2016-04-28 14:14:09</td>\n",
       "      <td>2</td>\n",
       "      <td>-73.870682</td>\n",
       "      <td>40.773598</td>\n",
       "      <td>-79.817978</td>\n",
       "      <td>38.963852</td>\n",
       "      <td>N</td>\n",
       "      <td>2515</td>\n",
       "      <td>339.177534</td>\n",
       "    </tr>\n",
       "    <tr>\n",
       "      <th>644165</th>\n",
       "      <td>id0401529</td>\n",
       "      <td>2</td>\n",
       "      <td>2016-06-02 15:19:35</td>\n",
       "      <td>2016-06-02 15:32:59</td>\n",
       "      <td>1</td>\n",
       "      <td>-73.980751</td>\n",
       "      <td>40.757111</td>\n",
       "      <td>-74.240051</td>\n",
       "      <td>38.478298</td>\n",
       "      <td>N</td>\n",
       "      <td>804</td>\n",
       "      <td>158.054116</td>\n",
       "    </tr>\n",
       "    <tr>\n",
       "      <th>910072</th>\n",
       "      <td>id1146400</td>\n",
       "      <td>1</td>\n",
       "      <td>2016-02-15 18:57:32</td>\n",
       "      <td>2016-02-15 19:02:35</td>\n",
       "      <td>2</td>\n",
       "      <td>-73.989914</td>\n",
       "      <td>40.756634</td>\n",
       "      <td>-70.346077</td>\n",
       "      <td>36.398121</td>\n",
       "      <td>N</td>\n",
       "      <td>303</td>\n",
       "      <td>359.676140</td>\n",
       "    </tr>\n",
       "    <tr>\n",
       "      <th>923793</th>\n",
       "      <td>id1001696</td>\n",
       "      <td>1</td>\n",
       "      <td>2016-02-24 21:02:32</td>\n",
       "      <td>2016-02-24 21:25:57</td>\n",
       "      <td>1</td>\n",
       "      <td>-73.972366</td>\n",
       "      <td>40.758633</td>\n",
       "      <td>-79.553535</td>\n",
       "      <td>43.674000</td>\n",
       "      <td>N</td>\n",
       "      <td>1405</td>\n",
       "      <td>349.356641</td>\n",
       "    </tr>\n",
       "    <tr>\n",
       "      <th>974378</th>\n",
       "      <td>id1510552</td>\n",
       "      <td>2</td>\n",
       "      <td>2016-01-06 20:40:52</td>\n",
       "      <td>2016-01-06 20:51:03</td>\n",
       "      <td>5</td>\n",
       "      <td>-71.799896</td>\n",
       "      <td>35.081532</td>\n",
       "      <td>-79.352837</td>\n",
       "      <td>40.436329</td>\n",
       "      <td>N</td>\n",
       "      <td>611</td>\n",
       "      <td>553.774599</td>\n",
       "    </tr>\n",
       "    <tr>\n",
       "      <th>1013474</th>\n",
       "      <td>id3626673</td>\n",
       "      <td>1</td>\n",
       "      <td>2016-05-05 18:02:50</td>\n",
       "      <td>2016-05-05 18:18:23</td>\n",
       "      <td>1</td>\n",
       "      <td>-73.978912</td>\n",
       "      <td>40.756763</td>\n",
       "      <td>-79.338699</td>\n",
       "      <td>41.427902</td>\n",
       "      <td>N</td>\n",
       "      <td>933</td>\n",
       "      <td>282.873682</td>\n",
       "    </tr>\n",
       "    <tr>\n",
       "      <th>1060807</th>\n",
       "      <td>id0838705</td>\n",
       "      <td>1</td>\n",
       "      <td>2016-02-26 19:50:03</td>\n",
       "      <td>2016-02-26 20:08:54</td>\n",
       "      <td>1</td>\n",
       "      <td>-66.972160</td>\n",
       "      <td>44.371944</td>\n",
       "      <td>-69.048019</td>\n",
       "      <td>43.147583</td>\n",
       "      <td>N</td>\n",
       "      <td>1131</td>\n",
       "      <td>133.735551</td>\n",
       "    </tr>\n",
       "    <tr>\n",
       "      <th>1100676</th>\n",
       "      <td>id2644780</td>\n",
       "      <td>1</td>\n",
       "      <td>2016-05-03 16:24:07</td>\n",
       "      <td>2016-05-03 17:18:34</td>\n",
       "      <td>2</td>\n",
       "      <td>-73.991325</td>\n",
       "      <td>40.750023</td>\n",
       "      <td>-79.518616</td>\n",
       "      <td>43.921028</td>\n",
       "      <td>N</td>\n",
       "      <td>3267</td>\n",
       "      <td>357.210929</td>\n",
       "    </tr>\n",
       "    <tr>\n",
       "      <th>1301396</th>\n",
       "      <td>id1216866</td>\n",
       "      <td>1</td>\n",
       "      <td>2016-03-26 22:01:54</td>\n",
       "      <td>2016-03-27 00:47:16</td>\n",
       "      <td>1</td>\n",
       "      <td>-73.981491</td>\n",
       "      <td>40.773251</td>\n",
       "      <td>-76.135719</td>\n",
       "      <td>40.243626</td>\n",
       "      <td>N</td>\n",
       "      <td>9922</td>\n",
       "      <td>118.932144</td>\n",
       "    </tr>\n",
       "  </tbody>\n",
       "</table>\n",
       "</div>"
      ],
      "text/plain": [
       "                id  vendor_id     pickup_datetime    dropoff_datetime  \\\n",
       "114376   id1311087          1 2016-02-29 12:16:29 2016-02-29 18:47:09   \n",
       "184925   id2306955          1 2016-05-07 18:58:53 2016-05-07 19:12:05   \n",
       "275644   id0978162          1 2016-02-24 16:20:59 2016-02-24 16:35:34   \n",
       "377068   id0116374          1 2016-04-02 20:33:19 2016-04-02 20:38:01   \n",
       "397526   id0982904          1 2016-04-28 13:32:14 2016-04-28 14:14:09   \n",
       "644165   id0401529          2 2016-06-02 15:19:35 2016-06-02 15:32:59   \n",
       "910072   id1146400          1 2016-02-15 18:57:32 2016-02-15 19:02:35   \n",
       "923793   id1001696          1 2016-02-24 21:02:32 2016-02-24 21:25:57   \n",
       "974378   id1510552          2 2016-01-06 20:40:52 2016-01-06 20:51:03   \n",
       "1013474  id3626673          1 2016-05-05 18:02:50 2016-05-05 18:18:23   \n",
       "1060807  id0838705          1 2016-02-26 19:50:03 2016-02-26 20:08:54   \n",
       "1100676  id2644780          1 2016-05-03 16:24:07 2016-05-03 17:18:34   \n",
       "1301396  id1216866          1 2016-03-26 22:01:54 2016-03-27 00:47:16   \n",
       "\n",
       "         passenger_count  pickup_longitude  pickup_latitude  \\\n",
       "114376                 3        -75.455917        39.803932   \n",
       "184925                 1        -72.809669        51.881084   \n",
       "275644                 4        -75.354332        34.712234   \n",
       "377068                 1        -74.007095        40.717113   \n",
       "397526                 2        -73.870682        40.773598   \n",
       "644165                 1        -73.980751        40.757111   \n",
       "910072                 2        -73.989914        40.756634   \n",
       "923793                 1        -73.972366        40.758633   \n",
       "974378                 5        -71.799896        35.081532   \n",
       "1013474                1        -73.978912        40.756763   \n",
       "1060807                1        -66.972160        44.371944   \n",
       "1100676                2        -73.991325        40.750023   \n",
       "1301396                1        -73.981491        40.773251   \n",
       "\n",
       "         dropoff_longitude  dropoff_latitude store_and_fwd_flag  \\\n",
       "114376          -73.796021         40.707726                  N   \n",
       "184925          -73.987228         40.750599                  N   \n",
       "275644          -73.834923         32.181141                  N   \n",
       "377068          -76.963242         38.946033                  N   \n",
       "397526          -79.817978         38.963852                  N   \n",
       "644165          -74.240051         38.478298                  N   \n",
       "910072          -70.346077         36.398121                  N   \n",
       "923793          -79.553535         43.674000                  N   \n",
       "974378          -79.352837         40.436329                  N   \n",
       "1013474         -79.338699         41.427902                  N   \n",
       "1060807         -69.048019         43.147583                  N   \n",
       "1100676         -79.518616         43.921028                  N   \n",
       "1301396         -76.135719         40.243626                  N   \n",
       "\n",
       "         trip_duration  haversine_distance  \n",
       "114376           23440          107.515425  \n",
       "184925             792          771.064665  \n",
       "275644             875          195.585348  \n",
       "377068             282          198.916873  \n",
       "397526            2515          339.177534  \n",
       "644165             804          158.054116  \n",
       "910072             303          359.676140  \n",
       "923793            1405          349.356641  \n",
       "974378             611          553.774599  \n",
       "1013474            933          282.873682  \n",
       "1060807           1131          133.735551  \n",
       "1100676           3267          357.210929  \n",
       "1301396           9922          118.932144  "
      ]
     },
     "execution_count": 39,
     "metadata": {},
     "output_type": "execute_result"
    }
   ],
   "source": [
    "df_train[df_train[\"haversine_distance\"] > 100]"
   ]
  },
  {
   "cell_type": "code",
   "execution_count": 137,
   "metadata": {
    "_cell_guid": "7eed25c4-b75d-472d-9be4-32a6ce3d36b1",
    "_execution_state": "idle",
    "_uuid": "e386d1d1d75352b71f32ea10a08e1acff27e7aab"
   },
   "outputs": [
    {
     "data": {
      "text/plain": [
       "<matplotlib.axes._subplots.AxesSubplot at 0x13da46208>"
      ]
     },
     "execution_count": 137,
     "metadata": {},
     "output_type": "execute_result"
    },
    {
     "data": {
      "image/png": "[encoded data removed]",
      "text/plain": [
       "<Figure size 720x720 with 1 Axes>"
      ]
     },
     "metadata": {},
     "output_type": "display_data"
    }
   ],
   "source": [
    "plt.figure(figsize=(10,10))\n",
    "sns.regplot(x=\"haversine_distance\", y=\"trip_duration\", data=df_train[df_train[\"haversine_distance\"] < 100])"
   ]
  },
  {
   "cell_type": "markdown",
   "metadata": {
    "_cell_guid": "c3c4b8f3-b423-4f55-920c-4fe4953a0796",
    "_execution_state": "idle",
    "_uuid": "8d689b2a8e90592cab5a8686700bee07d7a1ea63",
    "collapsed": true
   },
   "source": [
    "![](http://kartikkannapur.github.io//images/haversine_distance_2.png)"
   ]
  },
  {
   "cell_type": "code",
   "execution_count": 138,
   "metadata": {
    "collapsed": true
   },
   "outputs": [],
   "source": [
    "from keras.models import Sequential\n",
    "from keras.layers import Dense\n",
    "from keras.wrappers.scikit_learn import KerasRegressor\n",
    "from sklearn.model_selection import cross_val_score\n",
    "from sklearn.model_selection import KFold\n",
    "from sklearn.preprocessing import StandardScaler\n",
    "from sklearn.pipeline import Pipeline"
   ]
  },
  {
   "cell_type": "code",
   "execution_count": 139,
   "metadata": {
    "collapsed": true
   },
   "outputs": [],
   "source": [
    "XX = df_train[['passenger_count','haversine_distance','pickup_hour']].values\n",
    "YY = df_train['trip_duration']"
   ]
  },
  {
   "cell_type": "code",
   "execution_count": 93,
   "metadata": {
    "collapsed": true
   },
   "outputs": [],
   "source": [
    "# define base model\n",
    "def baseline_model():\n",
    "    # create model\n",
    "    model = Sequential()\n",
    "    model.add(Dense(3, input_dim=3, kernel_initializer='normal', activation='relu'))\n",
    "    model.add(Dense(1, kernel_initializer='normal'))\n",
    "    # Compile model\n",
    "    model.compile(loss='mean_squared_error', optimizer='adam')\n",
    "    return model"
   ]
  },
  {
   "cell_type": "code",
   "execution_count": 95,
   "metadata": {
    "collapsed": true
   },
   "outputs": [],
   "source": [
    "# fix random seed for reproducibility\n",
    "seed = 7\n",
    "np.random.seed(seed)\n",
    "# evaluate model with standardized dataset\n",
    "estimator = KerasRegressor(build_fn=baseline_model, epochs=100, batch_size=5, verbose=0)"
   ]
  },
  {
   "cell_type": "code",
   "execution_count": 113,
   "metadata": {
    "collapsed": true
   },
   "outputs": [],
   "source": [
    "X = XX[:10000]\n",
    "Y = YY[:10000]"
   ]
  },
  {
   "cell_type": "code",
   "execution_count": 114,
   "metadata": {},
   "outputs": [
    {
     "name": "stdout",
     "output_type": "stream",
     "text": [
      "Results: -9359772.38 (7862011.17) MSE\n"
     ]
    }
   ],
   "source": [
    "kfold = KFold(n_splits=10, random_state=seed)\n",
    "results = cross_val_score(estimator, X, Y, cv=kfold)\n",
    "print(\"Results: %.2f (%.2f) MSE\" % (results.mean(), results.std()))"
   ]
  },
  {
   "cell_type": "code",
   "execution_count": 104,
   "metadata": {},
   "outputs": [
    {
     "data": {
      "text/plain": [
       "<keras.callbacks.History at 0x13b747710>"
      ]
     },
     "execution_count": 104,
     "metadata": {},
     "output_type": "execute_result"
    }
   ],
   "source": [
    "estimator.fit(X, Y)"
   ]
  },
  {
   "cell_type": "code",
   "execution_count": 109,
   "metadata": {
    "collapsed": true
   },
   "outputs": [],
   "source": [
    "Ypr = estimator.predict(X)"
   ]
  },
  {
   "cell_type": "code",
   "execution_count": 107,
   "metadata": {
    "collapsed": true
   },
   "outputs": [],
   "source": [
    "import matplotlib.pyplot as plt"
   ]
  },
  {
   "cell_type": "code",
   "execution_count": 108,
   "metadata": {
    "collapsed": true
   },
   "outputs": [],
   "source": [
    "%matplotlib inline"
   ]
  },
  {
   "cell_type": "code",
   "execution_count": 112,
   "metadata": {},
   "outputs": [
    {
     "data": {
      "text/plain": [
       "[<matplotlib.lines.Line2D at 0x13da4f198>]"
      ]
     },
     "execution_count": 112,
     "metadata": {},
     "output_type": "execute_result"
    },
    {
     "data": {
      "image/png": "[encoded data removed]",
      "text/plain": [
       "<Figure size 432x288 with 1 Axes>"
      ]
     },
     "metadata": {},
     "output_type": "display_data"
    }
   ],
   "source": [
    "plt.xlim(0,3000)\n",
    "plt.plot(Y,Ypr,'b.')"
   ]
  },
  {
   "cell_type": "code",
   "execution_count": 116,
   "metadata": {},
   "outputs": [
    {
     "data": {
      "text/plain": [
       "[<matplotlib.lines.Line2D at 0x14b2c82e8>]"
      ]
     },
     "execution_count": 116,
     "metadata": {},
     "output_type": "execute_result"
    },
    {
     "data": {
      "image/png": "[encoded data removed]",
      "text/plain": [
       "<Figure size 432x288 with 1 Axes>"
      ]
     },
     "metadata": {},
     "output_type": "display_data"
    }
   ],
   "source": [
    "Ypr = estimator.predict(X)\n",
    "plt.xlim(0,3000)\n",
    "plt.plot(Y,Ypr,'.')"
   ]
  },
  {
   "cell_type": "code",
   "execution_count": null,
   "metadata": {
    "collapsed": true
   },
   "outputs": [],
   "source": []
  }
 ],
 "metadata": {
  "kernelspec": {
   "display_name": "Python 3",
   "language": "python",
   "name": "python3"
  },
  "language_info": {
   "codemirror_mode": {
    "name": "ipython",
    "version": 3
   },
   "file_extension": ".py",
   "mimetype": "text/x-python",
   "name": "python",
   "nbconvert_exporter": "python",
   "pygments_lexer": "ipython3",
   "version": "3.6.3"
  }
 },
 "nbformat": 4,
 "nbformat_minor": 2
}
